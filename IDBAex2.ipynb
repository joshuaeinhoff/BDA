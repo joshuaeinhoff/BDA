{
  "nbformat": 4,
  "nbformat_minor": 0,
  "metadata": {
    "colab": {
      "provenance": [],
      "authorship_tag": "ABX9TyOiCBbs/COpfMcLt383vxbO",
      "include_colab_link": true
    },
    "kernelspec": {
      "name": "python3",
      "display_name": "Python 3"
    },
    "language_info": {
      "name": "python"
    }
  },
  "cells": [
    {
      "cell_type": "markdown",
      "metadata": {
        "id": "view-in-github",
        "colab_type": "text"
      },
      "source": [
        "<a href=\"https://colab.research.google.com/github/joshuaeinhoff/BDA/blob/main/IDBAex2.ipynb\" target=\"_parent\"><img src=\"https://colab.research.google.com/assets/colab-badge.svg\" alt=\"Open In Colab\"/></a>"
      ]
    },
    {
      "cell_type": "markdown",
      "source": [
        "# Topic 1: Basic Syntax for Markdown\n",
        "\n",
        "## 1. Putting Headings:\n",
        "\n",
        "  ##### Select Markdown option instead of code and execute the cell."
      ],
      "metadata": {
        "id": "1PkwU9kg7vAg"
      }
    },
    {
      "cell_type": "markdown",
      "source": [
        "# Heading level 1\n",
        "## Heading level 2\n",
        "### Heading level 3\n",
        "#### Heading level 4\n",
        "##### Heading level 5\n",
        "###### Heading level 6\n"
      ],
      "metadata": {
        "id": "aBHTX3Lm8byd"
      }
    },
    {
      "cell_type": "markdown",
      "source": [
        "## 2. Writing Bold letters"
      ],
      "metadata": {
        "id": "JMN9E4as8lSW"
      }
    },
    {
      "cell_type": "markdown",
      "source": [
        "__two underscores before and after the text__\n"
      ],
      "metadata": {
        "id": "ogOABjBr8uJR"
      }
    },
    {
      "cell_type": "markdown",
      "source": [
        "## 3. Writing in italic letters"
      ],
      "metadata": {
        "id": "JADYl4-g82Ms"
      }
    },
    {
      "cell_type": "markdown",
      "source": [
        "_single underscore before and after the text_"
      ],
      "metadata": {
        "id": "3MGlIlDC85JC"
      }
    },
    {
      "cell_type": "markdown",
      "source": [
        "## 4. Dotted Points"
      ],
      "metadata": {
        "id": "lyf1c_LA88Yq"
      }
    },
    {
      "cell_type": "markdown",
      "source": [
        "- Dash before text\n",
        "- will print the text\n",
        "- with numbered point\n"
      ],
      "metadata": {
        "id": "4YhSL3la8_IA"
      }
    },
    {
      "cell_type": "markdown",
      "source": [
        "## 5. Numbered points"
      ],
      "metadata": {
        "id": "P_zHJ0AQ9MsW"
      }
    },
    {
      "cell_type": "markdown",
      "source": [
        "1. sample\n",
        "2. text\n",
        "3. test\n"
      ],
      "metadata": {
        "id": "_aboVayH9WAG"
      }
    },
    {
      "cell_type": "markdown",
      "source": [
        "## 6. Creating Tables"
      ],
      "metadata": {
        "id": "NNn2h9Vz9Z1f"
      }
    },
    {
      "cell_type": "markdown",
      "source": [
        "| Heading 1 | Heading 2 |\n",
        "| --------- | --------- |\n",
        "| 1         | xx    |\n",
        "| 2         |   yy  |"
      ],
      "metadata": {
        "id": "R3eHXXBJ9dzH"
      }
    },
    {
      "cell_type": "markdown",
      "source": [
        "## 7. Images\n"
      ],
      "metadata": {
        "id": "_MZcrspG9sAx"
      }
    },
    {
      "cell_type": "code",
      "source": [
        "from google.colab import drive\n",
        "drive.mount('/content/drive')"
      ],
      "metadata": {
        "colab": {
          "base_uri": "https://localhost:8080/"
        },
        "id": "hr_150_H-tjR",
        "outputId": "c4d91067-80ef-4a83-bd47-e6b901fd759f"
      },
      "execution_count": 1,
      "outputs": [
        {
          "output_type": "stream",
          "name": "stdout",
          "text": [
            "Mounted at /content/drive\n"
          ]
        }
      ]
    },
    {
      "cell_type": "markdown",
      "source": [
        "![Apple](/content/drive/MyDrive/IBDA_Data/apple_image.jpg)"
      ],
      "metadata": {
        "id": "hGlSCJ1M-Z6v"
      }
    },
    {
      "cell_type": "markdown",
      "source": [
        "## 8. Underscore text\n"
      ],
      "metadata": {
        "id": "Bt7xHdEJ_8B9"
      }
    },
    {
      "cell_type": "markdown",
      "source": [
        "<u>Underscore text </u>"
      ],
      "metadata": {
        "id": "y8x9vDpYBZTt"
      }
    },
    {
      "cell_type": "markdown",
      "source": [
        "## 9. Horizontal line\n"
      ],
      "metadata": {
        "id": "kr7lIMHzBfaV"
      }
    },
    {
      "cell_type": "markdown",
      "source": [
        "***"
      ],
      "metadata": {
        "id": "CrbzdbnYBi36"
      }
    },
    {
      "cell_type": "markdown",
      "source": [
        "# Topic 2: Basic Python Programming"
      ],
      "metadata": {
        "id": "B7vPpx3QBj3k"
      }
    },
    {
      "cell_type": "markdown",
      "source": [
        "## Step 1: print \"Hello World\""
      ],
      "metadata": {
        "id": "B9fJt8Z-CEa7"
      }
    },
    {
      "cell_type": "code",
      "source": [
        "print(\"Hello World\")"
      ],
      "metadata": {
        "colab": {
          "base_uri": "https://localhost:8080/"
        },
        "id": "pJhhskU-CIzq",
        "outputId": "60f44f7e-a638-41b1-cd3a-360a6b82d87d"
      },
      "execution_count": 2,
      "outputs": [
        {
          "output_type": "stream",
          "name": "stdout",
          "text": [
            "Hello World\n"
          ]
        }
      ]
    },
    {
      "cell_type": "markdown",
      "source": [
        "## Step 2: Create a Numeric Variable"
      ],
      "metadata": {
        "id": "jYOSpI6NCMWv"
      }
    },
    {
      "cell_type": "code",
      "source": [
        "a = 10"
      ],
      "metadata": {
        "id": "vywxHcb4CQZi"
      },
      "execution_count": 4,
      "outputs": []
    },
    {
      "cell_type": "markdown",
      "source": [
        "## Step 3: Print above created variable"
      ],
      "metadata": {
        "id": "zcs6ekX7VIVf"
      }
    },
    {
      "cell_type": "code",
      "source": [
        "print(a)"
      ],
      "metadata": {
        "colab": {
          "base_uri": "https://localhost:8080/"
        },
        "id": "iAKbGI9qVdJX",
        "outputId": "899b2c67-dad3-408c-b667-835dc9c085d3"
      },
      "execution_count": 5,
      "outputs": [
        {
          "output_type": "stream",
          "name": "stdout",
          "text": [
            "10\n"
          ]
        }
      ]
    },
    {
      "cell_type": "markdown",
      "source": [
        "## Step 4: Print the type of above variable"
      ],
      "metadata": {
        "id": "_7hWMmlOVfEx"
      }
    },
    {
      "cell_type": "code",
      "source": [
        "print(type(a))"
      ],
      "metadata": {
        "colab": {
          "base_uri": "https://localhost:8080/"
        },
        "id": "02MuYSmUVlgd",
        "outputId": "d56865aa-f2be-4852-fd05-f94c7ea3d13e"
      },
      "execution_count": 6,
      "outputs": [
        {
          "output_type": "stream",
          "name": "stdout",
          "text": [
            "<class 'int'>\n"
          ]
        }
      ]
    },
    {
      "cell_type": "markdown",
      "source": [
        "## Step 5: Create a String Variable & Print"
      ],
      "metadata": {
        "id": "OsQE4h3IVqG5"
      }
    },
    {
      "cell_type": "code",
      "source": [
        "string = \"Hello\""
      ],
      "metadata": {
        "id": "GliMt6abV1os"
      },
      "execution_count": 7,
      "outputs": []
    },
    {
      "cell_type": "markdown",
      "source": [
        "## Step 5.1: Access 2nd element in above string"
      ],
      "metadata": {
        "id": "9l0bDpIbV7iN"
      }
    },
    {
      "cell_type": "code",
      "source": [
        "print(string[1])"
      ],
      "metadata": {
        "colab": {
          "base_uri": "https://localhost:8080/"
        },
        "id": "NMn4WtStWEBD",
        "outputId": "409d88da-6661-4ff6-d139-945e2dc36c87"
      },
      "execution_count": 8,
      "outputs": [
        {
          "output_type": "stream",
          "name": "stdout",
          "text": [
            "e\n"
          ]
        }
      ]
    },
    {
      "cell_type": "markdown",
      "source": [
        "## Step 5.2: Find the length of above string"
      ],
      "metadata": {
        "id": "9kCAnSMiWIOA"
      }
    },
    {
      "cell_type": "code",
      "source": [
        "print(len(string))"
      ],
      "metadata": {
        "colab": {
          "base_uri": "https://localhost:8080/"
        },
        "id": "7iDxBtP-WLsr",
        "outputId": "cc95dab7-d857-4eae-dbae-256a754b6c28"
      },
      "execution_count": 9,
      "outputs": [
        {
          "output_type": "stream",
          "name": "stdout",
          "text": [
            "5\n"
          ]
        }
      ]
    },
    {
      "cell_type": "markdown",
      "source": [
        "## Step 5.3: Create another String and compare the strings"
      ],
      "metadata": {
        "id": "xZYxfBzGWS2Z"
      }
    },
    {
      "cell_type": "code",
      "source": [
        "string2 = \"World\"\n",
        "if string == string2:\n",
        "  print(\"Both Strings are the same.\")\n",
        "else:\n",
        "  print(\"Both Strings are not the same.\")"
      ],
      "metadata": {
        "colab": {
          "base_uri": "https://localhost:8080/"
        },
        "id": "8DqLVyTqWaTJ",
        "outputId": "cbcba956-b931-4906-b885-2a662fb59cd5"
      },
      "execution_count": 11,
      "outputs": [
        {
          "output_type": "stream",
          "name": "stdout",
          "text": [
            "Both Strings are not the same.\n"
          ]
        }
      ]
    },
    {
      "cell_type": "markdown",
      "source": [
        "## Step 5.4: Perform Concatenation operation"
      ],
      "metadata": {
        "id": "VnRpzfmsWrRu"
      }
    },
    {
      "cell_type": "code",
      "source": [
        "string3 = string + string2\n",
        "print(string3)"
      ],
      "metadata": {
        "colab": {
          "base_uri": "https://localhost:8080/"
        },
        "id": "l1VRDTxlWxyv",
        "outputId": "803625eb-b030-4c91-b13b-35837a350039"
      },
      "execution_count": 12,
      "outputs": [
        {
          "output_type": "stream",
          "name": "stdout",
          "text": [
            "HelloWorld\n"
          ]
        }
      ]
    },
    {
      "cell_type": "markdown",
      "source": [
        "## Step 6: Create a list"
      ],
      "metadata": {
        "id": "P3IUh6XwW5Of"
      }
    },
    {
      "cell_type": "code",
      "source": [
        "sampleList = [3, 5, 6, 18, 10]"
      ],
      "metadata": {
        "id": "vPJrU6q8W9mv"
      },
      "execution_count": 13,
      "outputs": []
    },
    {
      "cell_type": "markdown",
      "source": [
        "## Step 6.1: Find the length of above list"
      ],
      "metadata": {
        "id": "JHMCOaV5XCy0"
      }
    },
    {
      "cell_type": "code",
      "source": [
        "print(len(sampleList))"
      ],
      "metadata": {
        "colab": {
          "base_uri": "https://localhost:8080/"
        },
        "id": "kjU6AsQeXHkz",
        "outputId": "51738d9a-9011-4124-e3ec-bac7785f86ba"
      },
      "execution_count": 14,
      "outputs": [
        {
          "output_type": "stream",
          "name": "stdout",
          "text": [
            "5\n"
          ]
        }
      ]
    },
    {
      "cell_type": "markdown",
      "source": [
        "## Step 6.2: Iterate above list using for loop"
      ],
      "metadata": {
        "id": "Ma6gLCwSXLu3"
      }
    },
    {
      "cell_type": "code",
      "source": [
        "for i in sampleList:\n",
        "  print(i)"
      ],
      "metadata": {
        "colab": {
          "base_uri": "https://localhost:8080/"
        },
        "id": "mCzjghfzXP8A",
        "outputId": "c637707f-badf-4db3-fbd7-d7b5b7bbcd02"
      },
      "execution_count": 15,
      "outputs": [
        {
          "output_type": "stream",
          "name": "stdout",
          "text": [
            "3\n",
            "5\n",
            "6\n",
            "18\n",
            "10\n"
          ]
        }
      ]
    },
    {
      "cell_type": "markdown",
      "source": [
        "## Step 6.3: Add another element in to above list"
      ],
      "metadata": {
        "id": "gvaXTEKoXWC4"
      }
    },
    {
      "cell_type": "code",
      "source": [
        "sampleList.append(22)"
      ],
      "metadata": {
        "id": "f3oUCTYvXeGB"
      },
      "execution_count": 16,
      "outputs": []
    },
    {
      "cell_type": "markdown",
      "source": [
        "## Step 6.4: Remove one element from above list"
      ],
      "metadata": {
        "id": "5XqUh7AMXi1C"
      }
    },
    {
      "cell_type": "code",
      "source": [
        "sampleList.remove(3)"
      ],
      "metadata": {
        "id": "BvtVd6u-Xn13"
      },
      "execution_count": 17,
      "outputs": []
    },
    {
      "cell_type": "markdown",
      "source": [
        "## Step 6.5: Find the minimum and maximum numbers that exist in the above the list"
      ],
      "metadata": {
        "id": "ZYg8orPnXtox"
      }
    },
    {
      "cell_type": "code",
      "source": [
        "print(min(sampleList))\n",
        "print(max(sampleList))"
      ],
      "metadata": {
        "colab": {
          "base_uri": "https://localhost:8080/"
        },
        "id": "npa79DIjYANZ",
        "outputId": "b4b0752b-6111-4d61-c95d-230986ba9897"
      },
      "execution_count": 18,
      "outputs": [
        {
          "output_type": "stream",
          "name": "stdout",
          "text": [
            "5\n",
            "22\n"
          ]
        }
      ]
    },
    {
      "cell_type": "markdown",
      "source": [
        "## Step 7: Getting input as a string form User"
      ],
      "metadata": {
        "id": "OlPl9mF8YFrB"
      }
    },
    {
      "cell_type": "code",
      "source": [
        "name = input(\"Enter your name:\")"
      ],
      "metadata": {
        "colab": {
          "base_uri": "https://localhost:8080/"
        },
        "id": "F0uJ6gn2YLuV",
        "outputId": "ff52e290-8f6f-4e0f-de70-ca81ee1df3cc"
      },
      "execution_count": 19,
      "outputs": [
        {
          "name": "stdout",
          "output_type": "stream",
          "text": [
            "Enter your name:Joshua\n"
          ]
        }
      ]
    },
    {
      "cell_type": "markdown",
      "source": [
        "## Step 8: Displaying output: string"
      ],
      "metadata": {
        "id": "aINdOuXIYWi8"
      }
    },
    {
      "cell_type": "code",
      "source": [
        "print(\"Hello \" + name + \"! \")\n"
      ],
      "metadata": {
        "colab": {
          "base_uri": "https://localhost:8080/"
        },
        "id": "hPn2yzzkYbRi",
        "outputId": "384ae35d-20d1-42f3-ac33-1fa26db0b398"
      },
      "execution_count": 21,
      "outputs": [
        {
          "output_type": "stream",
          "name": "stdout",
          "text": [
            "Hello Joshua! \n"
          ]
        }
      ]
    },
    {
      "cell_type": "markdown",
      "source": [
        "## Step 9: Getting input as a int from User"
      ],
      "metadata": {
        "id": "FearfJ1YYjzC"
      }
    },
    {
      "cell_type": "code",
      "source": [
        "num = int(input(\"Enter a number: \"))"
      ],
      "metadata": {
        "colab": {
          "base_uri": "https://localhost:8080/"
        },
        "id": "rvO5M1vCYnVu",
        "outputId": "92e194cf-9294-4995-c49d-b94af4956414"
      },
      "execution_count": 22,
      "outputs": [
        {
          "name": "stdout",
          "output_type": "stream",
          "text": [
            "Enter a number: 22\n"
          ]
        }
      ]
    },
    {
      "cell_type": "markdown",
      "source": [
        "## Step 10: Display the input"
      ],
      "metadata": {
        "id": "qOgTFcE-Yudg"
      }
    },
    {
      "cell_type": "code",
      "source": [
        "print(num)"
      ],
      "metadata": {
        "colab": {
          "base_uri": "https://localhost:8080/"
        },
        "id": "siHB0Pr3Yyw0",
        "outputId": "7d8e6fa8-9759-460e-ab0e-233374889ac9"
      },
      "execution_count": 23,
      "outputs": [
        {
          "output_type": "stream",
          "name": "stdout",
          "text": [
            "22\n"
          ]
        }
      ]
    },
    {
      "cell_type": "markdown",
      "source": [
        "## Step 11: Different ways to print int and string"
      ],
      "metadata": {
        "id": "oqI7_8bQY32c"
      }
    },
    {
      "cell_type": "code",
      "source": [
        "a = 20\n",
        "b = 10\n",
        "\n",
        "sum = a + b\n",
        "\n",
        "print(\"The total of values a and b is: {}\".format(sum))\n",
        "print(\"The total sum of values a and b is: %d\" %sum)\n",
        "print(\"The total sum of values a and b is:\", sum)"
      ],
      "metadata": {
        "colab": {
          "base_uri": "https://localhost:8080/"
        },
        "id": "HxLAlHVMY8sa",
        "outputId": "ab88d72b-fcab-4417-f3eb-22ccccdb94ac"
      },
      "execution_count": 24,
      "outputs": [
        {
          "output_type": "stream",
          "name": "stdout",
          "text": [
            "The total of values a and b is: 30\n",
            "The total sum of values a and b is: 30\n",
            "The total sum of values a and b is: 30\n"
          ]
        }
      ]
    },
    {
      "cell_type": "markdown",
      "source": [
        "## Step 12: Getting multiple inputs from the user"
      ],
      "metadata": {
        "id": "nCZXJJKaZYFk"
      }
    },
    {
      "cell_type": "code",
      "source": [
        "a, b, c = input(\"Enter any three values: \").split()\n",
        "\n",
        "print(\"First number: \", a)\n",
        "print(\"Second number: \", b)\n",
        "print(\"Third number: \", c)"
      ],
      "metadata": {
        "colab": {
          "base_uri": "https://localhost:8080/"
        },
        "id": "2Sy54-Z9ZhbW",
        "outputId": "83d1e83e-db87-4212-f5af-544485bbf29d"
      },
      "execution_count": 27,
      "outputs": [
        {
          "output_type": "stream",
          "name": "stdout",
          "text": [
            "Enter any three values: 3 5 6\n",
            "First number:  3\n",
            "Second number:  5\n",
            "Third number:  6\n"
          ]
        }
      ]
    },
    {
      "cell_type": "markdown",
      "source": [
        "## Step 13: Define a function using \"def\""
      ],
      "metadata": {
        "id": "Q3E8pxaNZ_vA"
      }
    },
    {
      "cell_type": "code",
      "source": [
        "def HelloWorld():\n",
        "  print(\"Hello World\")"
      ],
      "metadata": {
        "id": "K7qx-YFrZhwP"
      },
      "execution_count": 28,
      "outputs": []
    },
    {
      "cell_type": "markdown",
      "source": [
        "## Step 14: Call the above function"
      ],
      "metadata": {
        "id": "92rdKkh6Y2qA"
      }
    },
    {
      "cell_type": "code",
      "source": [
        "HelloWorld()"
      ],
      "metadata": {
        "colab": {
          "base_uri": "https://localhost:8080/"
        },
        "id": "XNePNeHCaQTi",
        "outputId": "363c8966-ceef-4e70-a3b2-0ef982ad9734"
      },
      "execution_count": 29,
      "outputs": [
        {
          "output_type": "stream",
          "name": "stdout",
          "text": [
            "Hello World\n"
          ]
        }
      ]
    },
    {
      "cell_type": "markdown",
      "source": [
        "# Topic 3: Advanced Python Programming"
      ],
      "metadata": {
        "id": "8jTG-dYKahde"
      }
    },
    {
      "cell_type": "markdown",
      "source": [
        "## 1. pip install Command"
      ],
      "metadata": {
        "id": "33aS6xkKaPZz"
      }
    },
    {
      "cell_type": "code",
      "source": [
        "!pip install pami"
      ],
      "metadata": {
        "colab": {
          "base_uri": "https://localhost:8080/"
        },
        "id": "OaAlnHimaqyr",
        "outputId": "04918346-dd54-444d-d220-55a28eb16dd8"
      },
      "execution_count": 30,
      "outputs": [
        {
          "output_type": "stream",
          "name": "stdout",
          "text": [
            "Collecting pami\n",
            "  Downloading pami-2023.9.1.1-py3-none-any.whl (872 kB)\n",
            "\u001b[?25l     \u001b[90m━━━━━━━━━━━━━━━━━━━━━━━━━━━━━━━━━━━━━━━━\u001b[0m \u001b[32m0.0/872.4 kB\u001b[0m \u001b[31m?\u001b[0m eta \u001b[36m-:--:--\u001b[0m\r\u001b[2K     \u001b[91m━━━━\u001b[0m\u001b[90m╺\u001b[0m\u001b[90m━━━━━━━━━━━━━━━━━━━━━━━━━━━━━━━━━━━\u001b[0m \u001b[32m92.2/872.4 kB\u001b[0m \u001b[31m2.6 MB/s\u001b[0m eta \u001b[36m0:00:01\u001b[0m\r\u001b[2K     \u001b[91m━━━━━━━━━━━━━━━━━━━━━━━━━━━━━━━━━\u001b[0m\u001b[90m╺\u001b[0m\u001b[90m━━━━\u001b[0m \u001b[32m757.8/872.4 kB\u001b[0m \u001b[31m10.9 MB/s\u001b[0m eta \u001b[36m0:00:01\u001b[0m\r\u001b[2K     \u001b[90m━━━━━━━━━━━━━━━━━━━━━━━━━━━━━━━━━━━━━━\u001b[0m \u001b[32m872.4/872.4 kB\u001b[0m \u001b[31m10.2 MB/s\u001b[0m eta \u001b[36m0:00:00\u001b[0m\n",
            "\u001b[?25hRequirement already satisfied: psutil in /usr/local/lib/python3.10/dist-packages (from pami) (5.9.5)\n",
            "Requirement already satisfied: pandas in /usr/local/lib/python3.10/dist-packages (from pami) (1.5.3)\n",
            "Requirement already satisfied: plotly in /usr/local/lib/python3.10/dist-packages (from pami) (5.15.0)\n",
            "Requirement already satisfied: matplotlib in /usr/local/lib/python3.10/dist-packages (from pami) (3.7.1)\n",
            "Collecting resource (from pami)\n",
            "  Downloading Resource-0.2.1-py2.py3-none-any.whl (25 kB)\n",
            "Collecting validators (from pami)\n",
            "  Downloading validators-0.22.0-py3-none-any.whl (26 kB)\n",
            "Requirement already satisfied: urllib3 in /usr/local/lib/python3.10/dist-packages (from pami) (2.0.6)\n",
            "Requirement already satisfied: Pillow in /usr/local/lib/python3.10/dist-packages (from pami) (9.4.0)\n",
            "Requirement already satisfied: numpy in /usr/local/lib/python3.10/dist-packages (from pami) (1.23.5)\n",
            "Requirement already satisfied: contourpy>=1.0.1 in /usr/local/lib/python3.10/dist-packages (from matplotlib->pami) (1.1.1)\n",
            "Requirement already satisfied: cycler>=0.10 in /usr/local/lib/python3.10/dist-packages (from matplotlib->pami) (0.12.0)\n",
            "Requirement already satisfied: fonttools>=4.22.0 in /usr/local/lib/python3.10/dist-packages (from matplotlib->pami) (4.43.0)\n",
            "Requirement already satisfied: kiwisolver>=1.0.1 in /usr/local/lib/python3.10/dist-packages (from matplotlib->pami) (1.4.5)\n",
            "Requirement already satisfied: packaging>=20.0 in /usr/local/lib/python3.10/dist-packages (from matplotlib->pami) (23.2)\n",
            "Requirement already satisfied: pyparsing>=2.3.1 in /usr/local/lib/python3.10/dist-packages (from matplotlib->pami) (3.1.1)\n",
            "Requirement already satisfied: python-dateutil>=2.7 in /usr/local/lib/python3.10/dist-packages (from matplotlib->pami) (2.8.2)\n",
            "Requirement already satisfied: pytz>=2020.1 in /usr/local/lib/python3.10/dist-packages (from pandas->pami) (2023.3.post1)\n",
            "Requirement already satisfied: tenacity>=6.2.0 in /usr/local/lib/python3.10/dist-packages (from plotly->pami) (8.2.3)\n",
            "Collecting JsonForm>=0.0.2 (from resource->pami)\n",
            "  Downloading JsonForm-0.0.2.tar.gz (2.4 kB)\n",
            "  Preparing metadata (setup.py) ... \u001b[?25l\u001b[?25hdone\n",
            "Collecting JsonSir>=0.0.2 (from resource->pami)\n",
            "  Downloading JsonSir-0.0.2.tar.gz (2.2 kB)\n",
            "  Preparing metadata (setup.py) ... \u001b[?25l\u001b[?25hdone\n",
            "Collecting python-easyconfig>=0.1.0 (from resource->pami)\n",
            "  Downloading Python_EasyConfig-0.1.7-py2.py3-none-any.whl (5.4 kB)\n",
            "Requirement already satisfied: jsonschema in /usr/local/lib/python3.10/dist-packages (from JsonForm>=0.0.2->resource->pami) (4.19.1)\n",
            "Requirement already satisfied: six>=1.5 in /usr/local/lib/python3.10/dist-packages (from python-dateutil>=2.7->matplotlib->pami) (1.16.0)\n",
            "Requirement already satisfied: PyYAML in /usr/local/lib/python3.10/dist-packages (from python-easyconfig>=0.1.0->resource->pami) (6.0.1)\n",
            "Requirement already satisfied: attrs>=22.2.0 in /usr/local/lib/python3.10/dist-packages (from jsonschema->JsonForm>=0.0.2->resource->pami) (23.1.0)\n",
            "Requirement already satisfied: jsonschema-specifications>=2023.03.6 in /usr/local/lib/python3.10/dist-packages (from jsonschema->JsonForm>=0.0.2->resource->pami) (2023.7.1)\n",
            "Requirement already satisfied: referencing>=0.28.4 in /usr/local/lib/python3.10/dist-packages (from jsonschema->JsonForm>=0.0.2->resource->pami) (0.30.2)\n",
            "Requirement already satisfied: rpds-py>=0.7.1 in /usr/local/lib/python3.10/dist-packages (from jsonschema->JsonForm>=0.0.2->resource->pami) (0.10.3)\n",
            "Building wheels for collected packages: JsonForm, JsonSir\n",
            "  Building wheel for JsonForm (setup.py) ... \u001b[?25l\u001b[?25hdone\n",
            "  Created wheel for JsonForm: filename=JsonForm-0.0.2-py3-none-any.whl size=3313 sha256=edf421c38776d89397ed0bef9d100502166c63dc7f9e4321d3ba3964415aa241\n",
            "  Stored in directory: /root/.cache/pip/wheels/b6/e5/87/11026246d3bd4ad67c0615682d2d6748bbd9a40ac0490882bd\n",
            "  Building wheel for JsonSir (setup.py) ... \u001b[?25l\u001b[?25hdone\n",
            "  Created wheel for JsonSir: filename=JsonSir-0.0.2-py3-none-any.whl size=4750 sha256=0791b0f85b7d4aee257d7173a068b8b421fcec5183f7193303c6324f7309568c\n",
            "  Stored in directory: /root/.cache/pip/wheels/1d/4c/d3/4d9757425983b43eb709be1043d82cd03fb863ce5f56f117e6\n",
            "Successfully built JsonForm JsonSir\n",
            "Installing collected packages: JsonSir, validators, python-easyconfig, JsonForm, resource, pami\n",
            "Successfully installed JsonForm-0.0.2 JsonSir-0.0.2 pami-2023.9.1.1 python-easyconfig-0.1.7 resource-0.2.1 validators-0.22.0\n"
          ]
        }
      ]
    },
    {
      "cell_type": "markdown",
      "source": [
        "## 2. Reading and Processing .CSV file:"
      ],
      "metadata": {
        "id": "hLOryoWIa4-P"
      }
    },
    {
      "cell_type": "code",
      "source": [
        "import csv\n",
        "file = open('fileName.csv')\n",
        "csvreader = csv.reader(file)\n",
        "\n",
        "header = next(csvreader)\n",
        "print(header)"
      ],
      "metadata": {
        "id": "0MRcILWpa-xt"
      },
      "execution_count": null,
      "outputs": []
    },
    {
      "cell_type": "markdown",
      "source": [
        "## 3. Reading CSV with pandas"
      ],
      "metadata": {
        "id": "IadppOpFVhJR"
      }
    },
    {
      "cell_type": "code",
      "source": [
        "import pandas as pd\n",
        "df = pd.read_csv('inputFileName.csv')\n",
        "print(df.head())\n",
        "print(df.columns)\n",
        "print(df.drop('stationId', axis=1))\n",
        "print(df.shape)"
      ],
      "metadata": {
        "id": "RXYWuHEKVkvb"
      },
      "execution_count": null,
      "outputs": []
    },
    {
      "cell_type": "markdown",
      "source": [
        "## 4. How to add code description"
      ],
      "metadata": {
        "id": "e5PSGLS2V5ug"
      }
    },
    {
      "cell_type": "code",
      "source": [
        "def hello_world():\n",
        "    # A simple comment preceding a simple print statement\n",
        "    print(\"Hello World\")"
      ],
      "metadata": {
        "id": "wqhJduBNWCU4"
      },
      "execution_count": null,
      "outputs": []
    },
    {
      "cell_type": "markdown",
      "source": [],
      "metadata": {
        "id": "KEcG_B_-a-Ih"
      }
    }
  ]
}